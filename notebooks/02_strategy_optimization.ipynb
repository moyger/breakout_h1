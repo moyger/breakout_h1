{
 "cells": [
  {
   "cell_type": "markdown",
   "metadata": {},
   "source": [
    "# Strategy Optimization Workshop\n",
    "\n",
    "Optimize strategy parameters using genetic algorithms and validate with walk-forward analysis.\n",
    "\n",
    "## What This Notebook Does:\n",
    "1. Load top strategies from generation phase\n",
    "2. Optimize parameters using genetic algorithms\n",
    "3. Validate with walk-forward analysis\n",
    "4. Run Monte Carlo simulations\n",
    "5. Select robust strategies for deployment"
   ]
  },
  {
   "cell_type": "code",
   "execution_count": null,
   "metadata": {},
   "outputs": [],
   "source": [
    "# Setup\n",
    "import sys\n",
    "sys.path.append('..')\n",
    "\n",
    "import pandas as pd\n",
    "import numpy as np\n",
    "from strategy_factory.optimizer import StrategyOptimizer\n",
    "import matplotlib.pyplot as plt\n",
    "\n",
    "pd.set_option('display.max_rows', 100)\n",
    "\n",
    "print(\"✅ Imports successful\")"
   ]
  },
  {
   "cell_type": "markdown",
   "metadata": {},
   "source": [
    "## 1. Load Data"
   ]
  },
  {
   "cell_type": "code",
   "execution_count": null,
   "metadata": {},
   "outputs": [],
   "source": [
    "# Load historical data\n",
    "df = pd.read_csv('../data/crypto/BTCUSD_5m.csv')\n",
    "df.columns = df.columns.str.lower()\n",
    "\n",
    "if 'date' in df.columns:\n",
    "    df = df.rename(columns={'date': 'timestamp'})\n",
    "\n",
    "df['timestamp'] = pd.to_datetime(df['timestamp'])\n",
    "df = df.set_index('timestamp')\n",
    "\n",
    "print(f\"📊 Loaded {len(df):,} bars\")\n",
    "df.head()"
   ]
  },
  {
   "cell_type": "markdown",
   "metadata": {},
   "source": [
    "## 2. Optimize SMA Strategy"
   ]
  },
  {
   "cell_type": "code",
   "execution_count": null,
   "metadata": {},
   "outputs": [],
   "source": [
    "# Initialize optimizer\n",
    "optimizer = StrategyOptimizer(initial_capital=10000, commission=0.001)\n",
    "\n",
    "# Optimize SMA parameters\n",
    "sma_result = optimizer.optimize_sma(\n",
    "    df=df,\n",
    "    fast_range=(5, 30),\n",
    "    slow_range=(40, 200),\n",
    "    generations=30,\n",
    "    population=50,\n",
    "    verbose=True\n",
    ")\n",
    "\n",
    "print(f\"\\n🏆 Best SMA parameters: {sma_result.best_params}\")\n",
    "print(f\"   Sharpe ratio: {sma_result.best_fitness:.2f}\")"
   ]
  },
  {
   "cell_type": "code",
   "execution_count": null,
   "metadata": {},
   "outputs": [],
   "source": [
    "# Plot convergence\n",
    "plt.figure(figsize=(10, 6))\n",
    "plt.plot(sma_result.convergence_history)\n",
    "plt.title('Optimization Convergence - SMA Strategy')\n",
    "plt.xlabel('Generation')\n",
    "plt.ylabel('Best Fitness (Sharpe Ratio)')\n",
    "plt.grid(True)\n",
    "plt.show()"
   ]
  },
  {
   "cell_type": "markdown",
   "metadata": {},
   "source": [
    "## 3. Optimize RSI Strategy"
   ]
  },
  {
   "cell_type": "code",
   "execution_count": null,
   "metadata": {},
   "outputs": [],
   "source": [
    "# Optimize RSI parameters\n",
    "rsi_result = optimizer.optimize_rsi(\n",
    "    df=df,\n",
    "    period_range=(5, 30),\n",
    "    oversold_range=(15, 40),\n",
    "    overbought_range=(60, 85),\n",
    "    generations=30,\n",
    "    population=50,\n",
    "    verbose=True\n",
    ")\n",
    "\n",
    "print(f\"\\n🏆 Best RSI parameters: {rsi_result.best_params}\")\n",
    "print(f\"   Sharpe ratio: {rsi_result.best_fitness:.2f}\")"
   ]
  },
  {
   "cell_type": "markdown",
   "metadata": {},
   "source": [
    "## 4. Walk-Forward Analysis"
   ]
  },
  {
   "cell_type": "code",
   "execution_count": null,
   "metadata": {},
   "outputs": [],
   "source": [
    "# Run walk-forward analysis on best SMA strategy\n",
    "wf_results = optimizer.walk_forward_analysis(\n",
    "    df=df,\n",
    "    strategy_params=sma_result.best_params,\n",
    "    train_window=2000,  # ~7 days of 5min data\n",
    "    test_window=500,    # ~1.7 days\n",
    "    step_size=200,      # ~14 hours\n",
    "    verbose=True\n",
    ")\n",
    "\n",
    "wf_results"
   ]
  },
  {
   "cell_type": "code",
   "execution_count": null,
   "metadata": {},
   "outputs": [],
   "source": [
    "# Plot walk-forward results\n",
    "fig, axes = plt.subplots(2, 1, figsize=(12, 8))\n",
    "\n",
    "# Returns per fold\n",
    "axes[0].bar(wf_results['fold'], wf_results['test_return'])\n",
    "axes[0].axhline(y=0, color='r', linestyle='--')\n",
    "axes[0].set_title('Walk-Forward Returns by Fold')\n",
    "axes[0].set_xlabel('Fold')\n",
    "axes[0].set_ylabel('Return (%)')\n",
    "axes[0].grid(True, alpha=0.3)\n",
    "\n",
    "# Sharpe per fold\n",
    "axes[1].bar(wf_results['fold'], wf_results['test_sharpe'], color='green')\n",
    "axes[1].axhline(y=0, color='r', linestyle='--')\n",
    "axes[1].set_title('Walk-Forward Sharpe Ratio by Fold')\n",
    "axes[1].set_xlabel('Fold')\n",
    "axes[1].set_ylabel('Sharpe Ratio')\n",
    "axes[1].grid(True, alpha=0.3)\n",
    "\n",
    "plt.tight_layout()\n",
    "plt.show()"
   ]
  },
  {
   "cell_type": "markdown",
   "metadata": {},
   "source": [
    "## 5. Monte Carlo Simulation"
   ]
  },
  {
   "cell_type": "code",
   "execution_count": null,
   "metadata": {},
   "outputs": [],
   "source": [
    "# Run Monte Carlo simulation\n",
    "mc_results = optimizer.monte_carlo_simulation(\n",
    "    df=df,\n",
    "    strategy_params=sma_result.best_params,\n",
    "    n_simulations=1000,\n",
    "    confidence_level=0.95,\n",
    "    verbose=True\n",
    ")\n",
    "\n",
    "# Display results\n",
    "for key, value in mc_results.items():\n",
    "    print(f\"{key:.<30} {value:.2f}%\")"
   ]
  },
  {
   "cell_type": "markdown",
   "metadata": {},
   "source": [
    "## 6. Save Optimized Strategies"
   ]
  },
  {
   "cell_type": "code",
   "execution_count": null,
   "metadata": {},
   "outputs": [],
   "source": [
    "# Collect optimized strategies\n",
    "optimized_strategies = [\n",
    "    {\n",
    "        'strategy': 'SMA Crossover',\n",
    "        'params': sma_result.best_params,\n",
    "        'sharpe': sma_result.best_fitness,\n",
    "        'walk_forward_avg_return': wf_results['test_return'].mean(),\n",
    "        'walk_forward_avg_sharpe': wf_results['test_sharpe'].mean(),\n",
    "        'monte_carlo_mean': mc_results['mean_return'],\n",
    "        'monte_carlo_prob_positive': mc_results['probability_positive']\n",
    "    },\n",
    "    {\n",
    "        'strategy': 'RSI Mean Reversion',\n",
    "        'params': rsi_result.best_params,\n",
    "        'sharpe': rsi_result.best_fitness,\n",
    "    }\n",
    "]\n",
    "\n",
    "df_optimized = pd.DataFrame(optimized_strategies)\n",
    "df_optimized.to_csv('../results/optimized_strategies.csv', index=False)\n",
    "\n",
    "print(\"✅ Optimized strategies saved to results/optimized_strategies.csv\")\n",
    "df_optimized"
   ]
  },
  {
   "cell_type": "markdown",
   "metadata": {},
   "source": [
    "## Next Steps\n",
    "\n",
    "1. **Analyze performance** - Use `03_performance_analysis.ipynb` for detailed metrics\n",
    "2. **Deploy to brokers** - Use `04_multi_broker_deployment.ipynb` to go live"
   ]
  }
 ],
 "metadata": {
  "kernelspec": {
   "display_name": "Python 3",
   "language": "python",
   "name": "python3"
  },
  "language_info": {
   "codemirror_mode": {
    "name": "ipython",
    "version": 3
   },
   "file_extension": ".py",
   "mimetype": "text/x-python",
   "name": "python",
   "nbconvert_exporter": "python",
   "pygments_lexer": "ipython3",
   "version": "3.8.0"
  }
 },
 "nbformat": 4,
 "nbformat_minor": 4
}
