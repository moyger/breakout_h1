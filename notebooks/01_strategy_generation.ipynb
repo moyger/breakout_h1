{
 "cells": [
  {
   "cell_type": "markdown",
   "metadata": {},
   "source": [
    "# Strategy Generation Workshop\n",
    "\n",
    "Generate thousands of trading strategies and find the best performers.\n",
    "\n",
    "## What This Notebook Does:\n",
    "1. Load historical market data\n",
    "2. Generate 1000+ strategy combinations\n",
    "3. Test all strategies using vectorized backtesting\n",
    "4. Filter and rank by performance metrics\n",
    "5. Export top strategies for further optimization"
   ]
  },
  {
   "cell_type": "code",
   "execution_count": null,
   "metadata": {},
   "outputs": [],
   "source": [
    "# Setup\n",
    "import sys\n",
    "sys.path.append('..')\n",
    "\n",
    "import pandas as pd\n",
    "import numpy as np\n",
    "from strategy_factory.generator import StrategyGenerator\n",
    "\n",
    "# Display settings\n",
    "pd.set_option('display.max_rows', 100)\n",
    "pd.set_option('display.max_columns', None)\n",
    "pd.set_option('display.width', None)\n",
    "\n",
    "print(\"✅ Imports successful\")"
   ]
  },
  {
   "cell_type": "markdown",
   "metadata": {},
   "source": [
    "## 1. Load Market Data"
   ]
  },
  {
   "cell_type": "code",
   "execution_count": null,
   "metadata": {},
   "outputs": [],
   "source": [
    "# Load historical data\n",
    "df = pd.read_csv('../data/crypto/BTCUSD_5m.csv')\n",
    "\n",
    "# Normalize column names\n",
    "df.columns = df.columns.str.lower()\n",
    "\n",
    "# Convert timestamp\n",
    "if 'date' in df.columns:\n",
    "    df = df.rename(columns={'date': 'timestamp'})\n",
    "\n",
    "df['timestamp'] = pd.to_datetime(df['timestamp'])\n",
    "df = df.set_index('timestamp')\n",
    "\n",
    "print(f\"📊 Loaded {len(df):,} bars\")\n",
    "print(f\"   Period: {df.index[0]} to {df.index[-1]}\")\n",
    "print(f\"   Columns: {', '.join(df.columns)}\")\n",
    "\n",
    "df.head()"
   ]
  },
  {
   "cell_type": "markdown",
   "metadata": {},
   "source": [
    "## 2. Generate SMA Strategies"
   ]
  },
  {
   "cell_type": "code",
   "execution_count": null,
   "metadata": {},
   "outputs": [],
   "source": [
    "# Initialize generator\n",
    "generator = StrategyGenerator(initial_capital=10000, commission=0.001)\n",
    "\n",
    "# Generate SMA crossover strategies\n",
    "sma_results = generator.generate_sma_strategies(\n",
    "    df=df,\n",
    "    fast_range=[5, 10, 15, 20, 25],\n",
    "    slow_range=[50, 100, 150, 200],\n",
    "    verbose=True\n",
    ")\n",
    "\n",
    "# Display top 20\n",
    "sma_results.head(20)"
   ]
  },
  {
   "cell_type": "markdown",
   "metadata": {},
   "source": [
    "## 3. Generate RSI Strategies"
   ]
  },
  {
   "cell_type": "code",
   "execution_count": null,
   "metadata": {},
   "outputs": [],
   "source": [
    "# Generate RSI mean reversion strategies\n",
    "rsi_results = generator.generate_rsi_strategies(\n",
    "    df=df,\n",
    "    period_range=[7, 14, 21, 28],\n",
    "    oversold_range=[20, 25, 30, 35],\n",
    "    overbought_range=[65, 70, 75, 80],\n",
    "    verbose=True\n",
    ")\n",
    "\n",
    "rsi_results.head(20)"
   ]
  },
  {
   "cell_type": "markdown",
   "metadata": {},
   "source": [
    "## 4. Generate Breakout Strategies"
   ]
  },
  {
   "cell_type": "code",
   "execution_count": null,
   "metadata": {},
   "outputs": [],
   "source": [
    "# Generate breakout strategies\n",
    "breakout_results = generator.generate_breakout_strategies(\n",
    "    df=df,\n",
    "    lookback_range=[10, 20, 30, 50],\n",
    "    breakout_pct_range=[0.5, 1.0, 1.5, 2.0],\n",
    "    verbose=True\n",
    ")\n",
    "\n",
    "breakout_results.head(20)"
   ]
  },
  {
   "cell_type": "markdown",
   "metadata": {},
   "source": [
    "## 5. Combine and Filter All Strategies"
   ]
  },
  {
   "cell_type": "code",
   "execution_count": null,
   "metadata": {},
   "outputs": [],
   "source": [
    "# Combine all results\n",
    "all_results = pd.concat([sma_results, rsi_results, breakout_results], ignore_index=True)\n",
    "all_results = all_results.sort_values('sharpe_ratio', ascending=False)\n",
    "\n",
    "print(f\"📊 Total strategies generated: {len(all_results):,}\")\n",
    "print(f\"\\n🏆 Top performing strategy:\")\n",
    "print(f\"   Type: {all_results.iloc[0]['params']}\")\n",
    "print(f\"   Sharpe: {all_results.iloc[0]['sharpe_ratio']:.2f}\")\n",
    "print(f\"   Return: {all_results.iloc[0]['total_return']:.2f}%\")\n",
    "print(f\"   Max DD: {all_results.iloc[0]['max_drawdown']:.2f}%\")\n",
    "\n",
    "all_results.head(30)"
   ]
  },
  {
   "cell_type": "code",
   "execution_count": null,
   "metadata": {},
   "outputs": [],
   "source": [
    "# Filter by quality criteria\n",
    "filtered = generator.filter_strategies(\n",
    "    results=all_results,\n",
    "    min_sharpe=1.0,\n",
    "    max_drawdown=20.0,\n",
    "    min_trades=10,\n",
    "    min_win_rate=0.45\n",
    ")\n",
    "\n",
    "filtered.head(20)"
   ]
  },
  {
   "cell_type": "markdown",
   "metadata": {},
   "source": [
    "## 6. Export Results"
   ]
  },
  {
   "cell_type": "code",
   "execution_count": null,
   "metadata": {},
   "outputs": [],
   "source": [
    "# Save top strategies\n",
    "all_results.head(50).to_csv('../results/top_50_strategies.csv', index=False)\n",
    "filtered.to_csv('../results/filtered_strategies.csv', index=False)\n",
    "\n",
    "print(\"✅ Results exported:\")\n",
    "print(\"   - results/top_50_strategies.csv\")\n",
    "print(\"   - results/filtered_strategies.csv\")"
   ]
  },
  {
   "cell_type": "markdown",
   "metadata": {},
   "source": [
    "## Next Steps\n",
    "\n",
    "1. **Optimize top strategies** - Use `02_strategy_optimization.ipynb` to optimize parameters\n",
    "2. **Analyze performance** - Use `03_performance_analysis.ipynb` for detailed metrics\n",
    "3. **Deploy to brokers** - Use `04_multi_broker_deployment.ipynb` to go live"
   ]
  }
 ],
 "metadata": {
  "kernelspec": {
   "display_name": "Python 3",
   "language": "python",
   "name": "python3"
  },
  "language_info": {
   "codemirror_mode": {
    "name": "ipython",
    "version": 3
   },
   "file_extension": ".py",
   "mimetype": "text/x-python",
   "name": "python",
   "nbconvert_exporter": "python",
   "pygments_lexer": "ipython3",
   "version": "3.8.0"
  }
 },
 "nbformat": 4,
 "nbformat_minor": 4
}
